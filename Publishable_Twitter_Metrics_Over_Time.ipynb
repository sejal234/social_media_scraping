{
 "cells": [
  {
   "cell_type": "markdown",
   "id": "d4ca6ff9",
   "metadata": {},
   "source": [
    "# Goal: Examine twitter metrics over time "
   ]
  },
  {
   "cell_type": "markdown",
   "id": "6e74a1ff",
   "metadata": {},
   "source": [
    "Visualize a user tweets' retweets & likes over time and compute their average."
   ]
  },
  {
   "cell_type": "markdown",
   "id": "f014a404",
   "metadata": {},
   "source": [
    "### Step 1: Look at Beto's recent tweets and their number of retweets. Visualize this information. \n",
    "Status Object: https://www.geeksforgeeks.org/python-status-object-in-tweepy/"
   ]
  },
  {
   "cell_type": "code",
   "execution_count": 102,
   "id": "9877f7cb",
   "metadata": {},
   "outputs": [],
   "source": [
    "#All libraries that I might need\n",
    "import tweepy\n",
    "import time\n",
    "import pandas as pd\n",
    "import matplotlib.pyplot as plt\n",
    "import matplotlib.dates as mdates\n",
    "import datetime\n",
    "\n",
    "#put your information in\n",
    "consumer_key = \"XXXXXXXXX\"\n",
    "consumer_secret = \"XXXXXXXXX\"\n",
    "access_token = \"XXXXXXXXX\"\n",
    "access_token_secret = \"XXXXXXXXX\""
   ]
  },
  {
   "cell_type": "code",
   "execution_count": 103,
   "id": "7ffda778",
   "metadata": {},
   "outputs": [],
   "source": [
    "#initialize api\n",
    "auth = tweepy.OAuthHandler(consumer_key, consumer_secret)\n",
    "auth.set_access_token(access_token, access_token_secret)\n",
    "api = tweepy.API(auth,wait_on_rate_limit=True)\n",
    "\n",
    "#beto user info, replace with your user's information\n",
    "beto_id = '342863309'\n",
    "beto_user = \"@BetoORourke\""
   ]
  },
  {
   "cell_type": "code",
   "execution_count": 104,
   "id": "2b200e97",
   "metadata": {},
   "outputs": [],
   "source": [
    "#pull tweet information with these basic functions\n",
    "\n",
    "def list_of_tweets(user_id, num_tweets):\n",
    "    \"\"\"\n",
    "    user_id, string with numbers to represent a user id\n",
    "    num_tweets, integer to represent number of tweets\n",
    "        no matter the num you put, the max will be 200\n",
    "        \n",
    "    returns a list of tweets\n",
    "    \"\"\"\n",
    "    return api.user_timeline(user_id = '342863309', count = num_tweets)\n",
    "\n",
    "def tweet_info(tweets):\n",
    "    \"\"\"\n",
    "    tweets should be a list of tweets \n",
    "        (ex: tweets generated from func list_of_tweets)\n",
    "    returns panda dataframe of tweets, their id, and the tweet itself\n",
    "    \"\"\"\n",
    "    lst = [[tweet.created_at, tweet.id, tweet.text] for tweet in tweets]\n",
    "    df = pd.DataFrame(lst)\n",
    "    df.columns = [[\"Created_At\", \"Id\", \"Text\"]]\n",
    "    return df\n",
    "\n",
    "def num_retweets(tweets):\n",
    "    \"\"\"\n",
    "    tweets should be a list of tweets \n",
    "        (ex: tweets generated from func list_of_tweets)\n",
    "    returns panda dataframe of tweets, \n",
    "        their id, the tweet itself, and number of retweets the tweet recieved\n",
    "    \"\"\"\n",
    "    lst = [[tweet.created_at, tweet.id, tweet.text, tweet.retweet_count] for tweet in tweets]\n",
    "    df = pd.DataFrame(lst)\n",
    "    df.columns = [[\"Created_At\", \"Id\", \"Text\", \"Retweets\"]]\n",
    "    return df\n",
    "    \n",
    "def num_likes(tweets):\n",
    "    \"\"\"\n",
    "    tweets should be a list of tweets \n",
    "        (ex: tweets generated from func list_of_tweets)\n",
    "    returns panda dataframe of tweets, \n",
    "        their id, the tweet itself, and number of likes the tweet recieved\n",
    "    \"\"\"\n",
    "    lst = [[tweet.created_at, tweet.id, tweet.text, tweet.favorite_count] for tweet in tweets]\n",
    "    df = pd.DataFrame(lst)\n",
    "    df.columns = [[\"Created_At\", \"Id\", \"Text\", \"Likes\"]]\n",
    "    return df\n",
    "\n",
    "def average(df, column):\n",
    "    \"\"\"\n",
    "    Find the average of a column in a dataframe\n",
    "    \"\"\"\n",
    "    return int(df[column].mean())"
   ]
  },
  {
   "cell_type": "code",
   "execution_count": 105,
   "id": "52ea080f",
   "metadata": {},
   "outputs": [
    {
     "data": {
      "text/html": [
       "<div>\n",
       "<style scoped>\n",
       "    .dataframe tbody tr th:only-of-type {\n",
       "        vertical-align: middle;\n",
       "    }\n",
       "\n",
       "    .dataframe tbody tr th {\n",
       "        vertical-align: top;\n",
       "    }\n",
       "\n",
       "    .dataframe thead tr th {\n",
       "        text-align: left;\n",
       "    }\n",
       "</style>\n",
       "<table border=\"1\" class=\"dataframe\">\n",
       "  <thead>\n",
       "    <tr>\n",
       "      <th></th>\n",
       "      <th>Created_At</th>\n",
       "      <th>Id</th>\n",
       "      <th>Text</th>\n",
       "      <th>Retweets</th>\n",
       "    </tr>\n",
       "  </thead>\n",
       "  <tbody>\n",
       "    <tr>\n",
       "      <th>0</th>\n",
       "      <td>2022-06-30 00:56:22+00:00</td>\n",
       "      <td>1542311045183819777</td>\n",
       "      <td>It’s time for Texas to have a governor who car...</td>\n",
       "      <td>524</td>\n",
       "    </tr>\n",
       "    <tr>\n",
       "      <th>1</th>\n",
       "      <td>2022-06-29 22:37:34+00:00</td>\n",
       "      <td>1542276115082911749</td>\n",
       "      <td>This is a campaign to ensure that women have t...</td>\n",
       "      <td>584</td>\n",
       "    </tr>\n",
       "    <tr>\n",
       "      <th>2</th>\n",
       "      <td>2022-06-29 19:52:18+00:00</td>\n",
       "      <td>1542234523949273091</td>\n",
       "      <td>RT @nowthisnews: Watch Beto O’Rourke play Guns...</td>\n",
       "      <td>376</td>\n",
       "    </tr>\n",
       "    <tr>\n",
       "      <th>3</th>\n",
       "      <td>2022-06-29 17:40:07+00:00</td>\n",
       "      <td>1542201258823585793</td>\n",
       "      <td>Under Abbott, Texas ranks LAST in access to me...</td>\n",
       "      <td>654</td>\n",
       "    </tr>\n",
       "    <tr>\n",
       "      <th>4</th>\n",
       "      <td>2022-06-29 15:01:02+00:00</td>\n",
       "      <td>1542161223164350465</td>\n",
       "      <td>Honored to receive the 2022 @MomsDemand Gun Se...</td>\n",
       "      <td>848</td>\n",
       "    </tr>\n",
       "  </tbody>\n",
       "</table>\n",
       "</div>"
      ],
      "text/plain": [
       "                 Created_At                   Id  \\\n",
       "0 2022-06-30 00:56:22+00:00  1542311045183819777   \n",
       "1 2022-06-29 22:37:34+00:00  1542276115082911749   \n",
       "2 2022-06-29 19:52:18+00:00  1542234523949273091   \n",
       "3 2022-06-29 17:40:07+00:00  1542201258823585793   \n",
       "4 2022-06-29 15:01:02+00:00  1542161223164350465   \n",
       "\n",
       "                                                Text Retweets  \n",
       "0  It’s time for Texas to have a governor who car...      524  \n",
       "1  This is a campaign to ensure that women have t...      584  \n",
       "2  RT @nowthisnews: Watch Beto O’Rourke play Guns...      376  \n",
       "3  Under Abbott, Texas ranks LAST in access to me...      654  \n",
       "4  Honored to receive the 2022 @MomsDemand Gun Se...      848  "
      ]
     },
     "execution_count": 105,
     "metadata": {},
     "output_type": "execute_result"
    }
   ],
   "source": [
    "#beto's retweets\n",
    "list_tweets = list_of_tweets(beto_id,1000)\n",
    "rts = num_retweets(list_tweets)\n",
    "print(average(rts,\"Retweets\"))\n",
    "rts.head() #200 tweets, covers about the span of a month"
   ]
  },
  {
   "cell_type": "code",
   "execution_count": 106,
   "id": "f330d105",
   "metadata": {},
   "outputs": [],
   "source": [
    "#visualize data without dates\n",
    "    #df.iat[row,column]\n",
    "\n",
    "def create_xy_list(df, x_col, y_col):\n",
    "    \"\"\"\n",
    "    df - pandas dataframe\n",
    "    x_col - \n",
    "        - string w name of the column at the x_axis\n",
    "        - None (will enumerate from 1 to number of rows in df for x_axis)\n",
    "    y_col - string w name of the column at the y_axis\n",
    "    \n",
    "    returns x_lst, y_lst with lists to make your plot\n",
    "    \"\"\"\n",
    "    #find number of rows\n",
    "    num_rows = len(df.index)\n",
    "    \n",
    "    if x_col == None:\n",
    "        x_lst = list(range(1, num_rows + 1))\n",
    "\n",
    "    else:\n",
    "        #create dataframes to loop through easily,\n",
    "        #both dataframes will have one column and num_rows rows\n",
    "        x_df = df[x_col]\n",
    "        x_lst = []\n",
    "        for i in range(num_rows):\n",
    "            x_lst.append(x_df.iat[i,0])  \n",
    "    \n",
    "    y_df = df[y_col]\n",
    "    y_lst = []\n",
    "    for i in range(num_rows):\n",
    "        y_lst.append(y_df.iat[i,0])\n",
    "        \n",
    "    return x_lst, y_lst\n",
    "    \n",
    "#print(rts.iat[3,0])\n",
    "#print(create_xy_list(rts, None, \"Retweets\"))\n",
    "#print(create_xy_list(rts, \"Created_At\", \"Retweets\"))"
   ]
  },
  {
   "cell_type": "markdown",
   "id": "076f5a8b",
   "metadata": {},
   "source": [
    "plot_date documentation: https://matplotlib.org/stable/api/_as_gen/matplotlib.pyplot.plot_date.html"
   ]
  },
  {
   "cell_type": "code",
   "execution_count": 108,
   "id": "3afd573e",
   "metadata": {},
   "outputs": [
    {
     "data": {
      "image/png": "[encoded data removed]",
      "text/plain": [
       "<Figure size 1080x720 with 1 Axes>"
      ]
     },
     "metadata": {
      "needs_background": "light"
     },
     "output_type": "display_data"
    }
   ],
   "source": [
    "def dated_plot(title, df, x_col, y_col, l, col, av):\n",
    "    \"\"\"\n",
    "    NOTE: x_col MUST BE DATES as timestamp objects\n",
    "        #it is okay for dates to repeat\n",
    "    title: string w title of plot\n",
    "    line: 'dashed', line, other line type, or None\n",
    "    col: hex code w desired color\n",
    "    Returns a dated plot with dates as x and vals as y\n",
    "    \"\"\"\n",
    "    x_lst, y_lst = create_xy_list(df, x_col, y_col)\n",
    "    \n",
    "    #currently they are timestamp objects, we need to represent as datetime object\n",
    "    dates_lst = []\n",
    "    for i in x_lst:\n",
    "        #print(i)\n",
    "        dates_lst.append(i.date())\n",
    "    \n",
    "    plt.title(title)\n",
    "    \n",
    "    if av:\n",
    "        a = average(df, y_col)\n",
    "        plt.axhline(y=a, color='grey', linestyle='dashed', label = (\"Average: \" + str(a)))\n",
    "        plt.legend()\n",
    "    \n",
    "    if l == None:\n",
    "        plt.plot_date(dates_lst, y_lst, 'o', color = col)\n",
    "    else:\n",
    "        plt.plot_date(dates_lst, y_lst, marker = 'o', linestyle = l, color = col)\n",
    "\n",
    "#dated_plot(\"Beto's Retweets over Time\", rts, \"Created_At\", \"Retweets\", 'dashed', '#ED2939', False)\n",
    "dated_plot(\"Beto's Retweets over Time\", rts, \"Created_At\", \"Retweets\", None, '#ED2939', True)\n",
    "\n",
    "#to save the file\n",
    "#plt.savefig(\"/Users/sejalgupta/Documents/BETO WORK/twitter/rts_time.jpg\")"
   ]
  },
  {
   "cell_type": "code",
   "execution_count": 109,
   "id": "d02013ee",
   "metadata": {},
   "outputs": [
    {
     "data": {
      "image/png": "[encoded data removed]",
      "text/plain": [
       "<Figure size 1080x720 with 1 Axes>"
      ]
     },
     "metadata": {
      "needs_background": "light"
     },
     "output_type": "display_data"
    }
   ],
   "source": [
    "#look at beto's likes over time\n",
    "lks = num_likes(list_tweets)\n",
    "dated_plot(\"Beto's Likes over Time\", lks, \"Created_At\", \"Likes\", None, '#1D2951', True)\n",
    "#plt.savefig(\"/Users/sejalgupta/Documents/BETO WORK/twitter/lks_time.jpg\")"
   ]
  },
  {
   "cell_type": "code",
   "execution_count": 107,
   "id": "832fe307",
   "metadata": {
    "scrolled": true
   },
   "outputs": [
    {
     "data": {
      "image/png": "[encoded data removed]",
      "text/plain": [
       "<Figure size 1080x720 with 1 Axes>"
      ]
     },
     "metadata": {
      "needs_background": "light"
     },
     "output_type": "display_data"
    }
   ],
   "source": [
    "#create plots \n",
    "def enumerate_plot(title, df, y_col, l, col):\n",
    "    \"\"\"\n",
    "    title: string w title of plot\n",
    "    line: 'dashed', line, other line type, or None\n",
    "    col: hex code w desired color\n",
    "    Returns a simple plot that only looks at one metric without an x-axis\n",
    "    \"\"\"\n",
    "    plt.rcParams[\"figure.figsize\"]=15,10\n",
    "    x_lst, y_lst = create_xy_list(df, None, y_col)\n",
    "    plt.title(title)\n",
    "    #print(y_lst)\n",
    "    if l == None:\n",
    "        plt.plot(x_lst, y_lst, 'o', color = col)\n",
    "    else:\n",
    "        plt.plot(x_lst, y_lst, marker = 'o', linestyle = l, color = col)\n",
    "\n",
    "#enumerate_plot(\"Beto's Retweets\", rts, \"Retweets\", 'dashed', '#ED2939')\n",
    "enumerate_plot(\"Beto's Retweets: Scatterplot\", rts, \"Retweets\", None, '#ED2939')"
   ]
  }
 ],
 "metadata": {
  "kernelspec": {
   "display_name": "Python 3 (ipykernel)",
   "language": "python",
   "name": "python3"
  },
  "language_info": {
   "codemirror_mode": {
    "name": "ipython",
    "version": 3
   },
   "file_extension": ".py",
   "mimetype": "text/x-python",
   "name": "python",
   "nbconvert_exporter": "python",
   "pygments_lexer": "ipython3",
   "version": "3.9.7"
  }
 },
 "nbformat": 4,
 "nbformat_minor": 5
}
